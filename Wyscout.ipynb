{
 "cells": [
  {
   "cell_type": "code",
   "execution_count": 1,
   "id": "e3a1b136",
   "metadata": {},
   "outputs": [
    {
     "name": "stdout",
     "output_type": "stream",
     "text": [
      "Collecting kloppy\n",
      "  Downloading kloppy-2.1.0.tar.gz (69 kB)\n",
      "  Installing build dependencies: started\n",
      "  Installing build dependencies: finished with status 'done'\n",
      "  Getting requirements to build wheel: started\n",
      "  Getting requirements to build wheel: finished with status 'done'\n",
      "    Preparing wheel metadata: started\n",
      "    Preparing wheel metadata: finished with status 'done'\n",
      "Requirement already satisfied: pytz>=2020.1 in c:\\users\\rithic\\anaconda3\\lib\\site-packages (from kloppy) (2021.1)\n",
      "Requirement already satisfied: networkx>=2.4 in c:\\users\\rithic\\anaconda3\\lib\\site-packages (from kloppy) (2.5)\n",
      "Requirement already satisfied: requests>=2.0.0 in c:\\users\\rithic\\anaconda3\\lib\\site-packages (from kloppy) (2.25.1)\n",
      "Collecting lxml>=4.5.0\n",
      "  Using cached lxml-4.6.3-cp37-cp37m-win_amd64.whl (3.5 MB)\n",
      "Requirement already satisfied: decorator>=4.3.0 in c:\\users\\rithic\\anaconda3\\lib\\site-packages (from networkx>=2.4->kloppy) (5.0.6)\n",
      "Requirement already satisfied: idna<3,>=2.5 in c:\\users\\rithic\\anaconda3\\lib\\site-packages (from requests>=2.0.0->kloppy) (2.10)\n",
      "Requirement already satisfied: certifi>=2017.4.17 in c:\\users\\rithic\\anaconda3\\lib\\site-packages (from requests>=2.0.0->kloppy) (2020.12.5)\n",
      "Requirement already satisfied: chardet<5,>=3.0.2 in c:\\users\\rithic\\anaconda3\\lib\\site-packages (from requests>=2.0.0->kloppy) (4.0.0)\n",
      "Requirement already satisfied: urllib3<1.27,>=1.21.1 in c:\\users\\rithic\\anaconda3\\lib\\site-packages (from requests>=2.0.0->kloppy) (1.26.4)\n",
      "Building wheels for collected packages: kloppy\n",
      "  Building wheel for kloppy (PEP 517): started\n",
      "  Building wheel for kloppy (PEP 517): finished with status 'done'\n",
      "  Created wheel for kloppy: filename=kloppy-2.1.0-py3-none-any.whl size=103025 sha256=5030ef155a6004805d581c8cc576852a6bbcd7f93484f64ae918285d85dc7207\n",
      "  Stored in directory: c:\\users\\rithic\\appdata\\local\\pip\\cache\\wheels\\2b\\7e\\bd\\9a01ab4724c3bb3ae134ba76fa1468d488384a4d90b8d8d84d\n",
      "Successfully built kloppy\n",
      "Installing collected packages: lxml, kloppy\n",
      "  Attempting uninstall: lxml\n",
      "    Found existing installation: lxml 4.2.5\n",
      "    Uninstalling lxml-4.2.5:\n",
      "      Successfully uninstalled lxml-4.2.5\n",
      "Successfully installed kloppy-2.1.0 lxml-4.6.3\n"
     ]
    }
   ],
   "source": [
    "!pip install kloppy"
   ]
  },
  {
   "cell_type": "code",
   "execution_count": 2,
   "id": "94a1bcbd",
   "metadata": {},
   "outputs": [],
   "source": [
    "from kloppy import datasets"
   ]
  },
  {
   "cell_type": "code",
   "execution_count": 11,
   "id": "d9fc3364",
   "metadata": {},
   "outputs": [],
   "source": [
    "dataset = datasets.load(\"wyscout\")"
   ]
  },
  {
   "cell_type": "code",
   "execution_count": 13,
   "id": "16a7c914",
   "metadata": {},
   "outputs": [],
   "source": [
    "metadata = dataset.metadata"
   ]
  },
  {
   "cell_type": "code",
   "execution_count": 15,
   "id": "2cfc7fe2",
   "metadata": {},
   "outputs": [],
   "source": [
    "home_team,away_team = metadata.teams"
   ]
  },
  {
   "cell_type": "code",
   "execution_count": null,
   "id": "67dd65da",
   "metadata": {},
   "outputs": [],
   "source": []
  },
  {
   "cell_type": "code",
   "execution_count": null,
   "id": "e7f4648c",
   "metadata": {},
   "outputs": [],
   "source": []
  },
  {
   "cell_type": "code",
   "execution_count": 17,
   "id": "676a9432",
   "metadata": {},
   "outputs": [],
   "source": [
    "import socceraction"
   ]
  },
  {
   "cell_type": "code",
   "execution_count": 20,
   "id": "e0eff84c",
   "metadata": {},
   "outputs": [],
   "source": [
    "from socceraction.spadl.wyscout import PublicWyscoutLoader"
   ]
  },
  {
   "cell_type": "code",
   "execution_count": 23,
   "id": "1aab6c3d",
   "metadata": {},
   "outputs": [
    {
     "name": "stderr",
     "output_type": "stream",
     "text": [
      "Downloading data: 100%|█████████████████████████████████████████████████████████████████████████| 5/5 [01:02<00:00, 12.56s/it]\n"
     ]
    }
   ],
   "source": [
    "wyscout_loader = PublicWyscoutLoader(root=\"data/wyscout/\", download = True)"
   ]
  },
  {
   "cell_type": "code",
   "execution_count": null,
   "id": "19389e49",
   "metadata": {},
   "outputs": [],
   "source": []
  }
 ],
 "metadata": {
  "kernelspec": {
   "display_name": "Python 3",
   "language": "python",
   "name": "python3"
  },
  "language_info": {
   "codemirror_mode": {
    "name": "ipython",
    "version": 3
   },
   "file_extension": ".py",
   "mimetype": "text/x-python",
   "name": "python",
   "nbconvert_exporter": "python",
   "pygments_lexer": "ipython3",
   "version": "3.7.1"
  }
 },
 "nbformat": 4,
 "nbformat_minor": 5
}
