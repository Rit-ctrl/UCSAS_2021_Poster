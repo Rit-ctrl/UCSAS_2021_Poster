{
 "cells": [
  {
   "cell_type": "code",
   "execution_count": 23,
   "metadata": {},
   "outputs": [],
   "source": [
    "import pandas as pd\n",
    "from helper import calculate_len_and_time,sum_cols\n",
    "import json"
   ]
  },
  {
   "cell_type": "code",
   "execution_count": 21,
   "metadata": {},
   "outputs": [],
   "source": [
    "pd.set_option('max_colwidth',None)"
   ]
  },
  {
   "cell_type": "code",
   "execution_count": 24,
   "metadata": {},
   "outputs": [
    {
     "data": {
      "text/plain": [
       "['minute',\n",
       " 'second',\n",
       " 'teamId',\n",
       " 'x',\n",
       " 'y',\n",
       " 'endX',\n",
       " 'endY',\n",
       " 'type_displayName',\n",
       " 'outcomeType_displayName',\n",
       " 'name',\n",
       " 'qualifiers']"
      ]
     },
     "execution_count": 24,
     "metadata": {},
     "output_type": "execute_result"
    }
   ],
   "source": [
    "sum_cols"
   ]
  },
  {
   "cell_type": "code",
   "execution_count": 26,
   "metadata": {},
   "outputs": [],
   "source": [
    "match_id = \"110\""
   ]
  },
  {
   "cell_type": "code",
   "execution_count": 27,
   "metadata": {},
   "outputs": [],
   "source": [
    "# read the file\n",
    "with open(f'data/seq/{match_id}.json') as f:\n",
    "    t_seq = [tuple(x) for x in json.load(f)]"
   ]
  },
  {
   "cell_type": "code",
   "execution_count": 28,
   "metadata": {},
   "outputs": [],
   "source": [
    "length = []\n",
    "for i in t_seq:\n",
    "    length.append(i[1]-i[0])"
   ]
  },
  {
   "cell_type": "code",
   "execution_count": 29,
   "metadata": {},
   "outputs": [],
   "source": [
    "from matplotlib import pyplot as plt\n"
   ]
  },
  {
   "cell_type": "code",
   "execution_count": 30,
   "metadata": {},
   "outputs": [
    {
     "data": {
      "text/plain": [
       "(array([16.,  3.,  9.,  8.,  2.,  0.,  3.,  0.,  0.,  1.]),\n",
       " array([ 1. ,  4.5,  8. , 11.5, 15. , 18.5, 22. , 25.5, 29. , 32.5, 36. ]),\n",
       " <BarContainer object of 10 artists>)"
      ]
     },
     "execution_count": 30,
     "metadata": {},
     "output_type": "execute_result"
    },
    {
     "data": {
      "image/png": "[encoded data removed]",
      "text/plain": [
       "<Figure size 720x504 with 1 Axes>"
      ]
     },
     "metadata": {},
     "output_type": "display_data"
    }
   ],
   "source": [
    "fig,ax = plt.subplots(figsize=(10,7))\n",
    "ax.hist(length)"
   ]
  },
  {
   "cell_type": "code",
   "execution_count": 31,
   "metadata": {},
   "outputs": [],
   "source": [
    "df_all = pd.read_csv(f\"data/20_21/{match_id}.csv\",low_memory=False)\n",
    "\n",
    "pd.set_option('display.max_columns', None)"
   ]
  },
  {
   "cell_type": "code",
   "execution_count": 32,
   "metadata": {},
   "outputs": [],
   "source": [
    "st_time = [x[0]*60+x[1] for x in df_all.iloc[[x[0] for x in t_seq]][['minute','second']].values]"
   ]
  },
  {
   "cell_type": "code",
   "execution_count": 33,
   "metadata": {},
   "outputs": [],
   "source": [
    "end_time = [x[0]*60+x[1] for x in df_all.iloc[[x[1] for x in t_seq]][['minute','second']].values]"
   ]
  },
  {
   "cell_type": "code",
   "execution_count": 34,
   "metadata": {},
   "outputs": [],
   "source": [
    "duration = []\n",
    "for e,s in zip(end_time,st_time):\n",
    "    duration.append(e-s)"
   ]
  },
  {
   "cell_type": "code",
   "execution_count": 35,
   "metadata": {},
   "outputs": [
    {
     "data": {
      "text/plain": [
       "(array([25.,  8.,  6.,  2.,  0.,  0.,  0.,  0.,  0.,  1.]),\n",
       " array([  2. ,  23.4,  44.8,  66.2,  87.6, 109. , 130.4, 151.8, 173.2,\n",
       "        194.6, 216. ]),\n",
       " <BarContainer object of 10 artists>)"
      ]
     },
     "execution_count": 35,
     "metadata": {},
     "output_type": "execute_result"
    },
    {
     "data": {
      "image/png": "[encoded data removed]",
      "text/plain": [
       "<Figure size 720x504 with 1 Axes>"
      ]
     },
     "metadata": {},
     "output_type": "display_data"
    }
   ],
   "source": [
    "fig,ax = plt.subplots(figsize=(10,7))\n",
    "ax.hist(duration)"
   ]
  },
  {
   "cell_type": "code",
   "execution_count": 42,
   "metadata": {},
   "outputs": [],
   "source": [
    "i=1"
   ]
  },
  {
   "cell_type": "code",
   "execution_count": 43,
   "metadata": {},
   "outputs": [
    {
     "data": {
      "text/html": [
       "<div>\n",
       "<style scoped>\n",
       "    .dataframe tbody tr th:only-of-type {\n",
       "        vertical-align: middle;\n",
       "    }\n",
       "\n",
       "    .dataframe tbody tr th {\n",
       "        vertical-align: top;\n",
       "    }\n",
       "\n",
       "    .dataframe thead th {\n",
       "        text-align: right;\n",
       "    }\n",
       "</style>\n",
       "<table border=\"1\" class=\"dataframe\">\n",
       "  <thead>\n",
       "    <tr style=\"text-align: right;\">\n",
       "      <th></th>\n",
       "      <th>minute</th>\n",
       "      <th>second</th>\n",
       "      <th>teamId</th>\n",
       "      <th>x</th>\n",
       "      <th>y</th>\n",
       "      <th>endX</th>\n",
       "      <th>endY</th>\n",
       "      <th>type_displayName</th>\n",
       "      <th>outcomeType_displayName</th>\n",
       "      <th>name</th>\n",
       "      <th>qualifiers</th>\n",
       "    </tr>\n",
       "  </thead>\n",
       "  <tbody>\n",
       "    <tr>\n",
       "      <th>13</th>\n",
       "      <td>0</td>\n",
       "      <td>41.0</td>\n",
       "      <td>161</td>\n",
       "      <td>49.2</td>\n",
       "      <td>0.0</td>\n",
       "      <td>54.3</td>\n",
       "      <td>6.1</td>\n",
       "      <td>Pass</td>\n",
       "      <td>Successful</td>\n",
       "      <td>Nélson Semedo</td>\n",
       "      <td>[{'type': {'value': 141, 'displayName': 'PassEndY'}, 'value': '6.1'}, {'type': {'value': 107, 'displayName': 'ThrowIn'}}, {'type': {'value': 213, 'displayName': 'Angle'}, 'value': '0.8'}, {'type': {'value': 212, 'displayName': 'Length'}, 'value': '7.6'}, {'type': {'value': 140, 'displayName': 'PassEndX'}, 'value': '54.3'}, {'type': {'value': 56, 'displayName': 'Zone'}, 'value': 'Right'}]</td>\n",
       "    </tr>\n",
       "    <tr>\n",
       "      <th>14</th>\n",
       "      <td>0</td>\n",
       "      <td>42.0</td>\n",
       "      <td>161</td>\n",
       "      <td>54.3</td>\n",
       "      <td>6.1</td>\n",
       "      <td>44.9</td>\n",
       "      <td>5.3</td>\n",
       "      <td>Pass</td>\n",
       "      <td>Unsuccessful</td>\n",
       "      <td>Pedro Neto</td>\n",
       "      <td>[{'type': {'value': 21, 'displayName': 'OtherBodyPart'}}, {'type': {'value': 213, 'displayName': 'Angle'}, 'value': '3.2'}, {'type': {'value': 212, 'displayName': 'Length'}, 'value': '9.9'}, {'type': {'value': 141, 'displayName': 'PassEndY'}, 'value': '5.3'}, {'type': {'value': 140, 'displayName': 'PassEndX'}, 'value': '44.9'}, {'type': {'value': 178, 'displayName': 'StandingSave'}}, {'type': {'value': 56, 'displayName': 'Zone'}, 'value': 'Back'}]</td>\n",
       "    </tr>\n",
       "    <tr>\n",
       "      <th>15</th>\n",
       "      <td>0</td>\n",
       "      <td>43.0</td>\n",
       "      <td>24</td>\n",
       "      <td>58.5</td>\n",
       "      <td>95.7</td>\n",
       "      <td>NaN</td>\n",
       "      <td>NaN</td>\n",
       "      <td>Interception</td>\n",
       "      <td>Successful</td>\n",
       "      <td>Jack Grealish</td>\n",
       "      <td>[{'type': {'value': 178, 'displayName': 'StandingSave'}}, {'type': {'value': 56, 'displayName': 'Zone'}, 'value': 'Left'}]</td>\n",
       "    </tr>\n",
       "    <tr>\n",
       "      <th>16</th>\n",
       "      <td>0</td>\n",
       "      <td>44.0</td>\n",
       "      <td>24</td>\n",
       "      <td>51.5</td>\n",
       "      <td>94.0</td>\n",
       "      <td>NaN</td>\n",
       "      <td>NaN</td>\n",
       "      <td>Challenge</td>\n",
       "      <td>Unsuccessful</td>\n",
       "      <td>John McGinn</td>\n",
       "      <td>[{'type': {'value': 56, 'displayName': 'Zone'}, 'value': 'Left'}, {'type': {'value': 233, 'displayName': 'OppositeRelatedEvent'}, 'value': '13'}, {'type': {'value': 285, 'displayName': 'Defensive'}}]</td>\n",
       "    </tr>\n",
       "    <tr>\n",
       "      <th>17</th>\n",
       "      <td>0</td>\n",
       "      <td>44.0</td>\n",
       "      <td>161</td>\n",
       "      <td>48.5</td>\n",
       "      <td>6.0</td>\n",
       "      <td>NaN</td>\n",
       "      <td>NaN</td>\n",
       "      <td>TakeOn</td>\n",
       "      <td>Successful</td>\n",
       "      <td>Nélson Semedo</td>\n",
       "      <td>[{'type': {'value': 233, 'displayName': 'OppositeRelatedEvent'}, 'value': '10'}, {'type': {'value': 286, 'displayName': 'Offensive'}}, {'type': {'value': 178, 'displayName': 'StandingSave'}}, {'type': {'value': 56, 'displayName': 'Zone'}, 'value': 'Back'}]</td>\n",
       "    </tr>\n",
       "    <tr>\n",
       "      <th>18</th>\n",
       "      <td>0</td>\n",
       "      <td>45.0</td>\n",
       "      <td>161</td>\n",
       "      <td>46.0</td>\n",
       "      <td>9.5</td>\n",
       "      <td>NaN</td>\n",
       "      <td>NaN</td>\n",
       "      <td>BallTouch</td>\n",
       "      <td>Successful</td>\n",
       "      <td>Nélson Semedo</td>\n",
       "      <td>[{'type': {'value': 56, 'displayName': 'Zone'}, 'value': 'Back'}, {'type': {'value': 178, 'displayName': 'StandingSave'}}]</td>\n",
       "    </tr>\n",
       "    <tr>\n",
       "      <th>19</th>\n",
       "      <td>0</td>\n",
       "      <td>47.0</td>\n",
       "      <td>161</td>\n",
       "      <td>58.6</td>\n",
       "      <td>6.8</td>\n",
       "      <td>NaN</td>\n",
       "      <td>NaN</td>\n",
       "      <td>TakeOn</td>\n",
       "      <td>Successful</td>\n",
       "      <td>Pedro Neto</td>\n",
       "      <td>[{'type': {'value': 56, 'displayName': 'Zone'}, 'value': 'Right'}, {'type': {'value': 233, 'displayName': 'OppositeRelatedEvent'}, 'value': '68'}, {'type': {'value': 286, 'displayName': 'Offensive'}}, {'type': {'value': 178, 'displayName': 'StandingSave'}}]</td>\n",
       "    </tr>\n",
       "    <tr>\n",
       "      <th>20</th>\n",
       "      <td>0</td>\n",
       "      <td>47.0</td>\n",
       "      <td>24</td>\n",
       "      <td>41.4</td>\n",
       "      <td>93.2</td>\n",
       "      <td>NaN</td>\n",
       "      <td>NaN</td>\n",
       "      <td>Challenge</td>\n",
       "      <td>Unsuccessful</td>\n",
       "      <td>Douglas Luiz</td>\n",
       "      <td>[{'type': {'value': 56, 'displayName': 'Zone'}, 'value': 'Back'}, {'type': {'value': 285, 'displayName': 'Defensive'}}, {'type': {'value': 233, 'displayName': 'OppositeRelatedEvent'}, 'value': '14'}]</td>\n",
       "    </tr>\n",
       "    <tr>\n",
       "      <th>21</th>\n",
       "      <td>0</td>\n",
       "      <td>49.0</td>\n",
       "      <td>161</td>\n",
       "      <td>66.3</td>\n",
       "      <td>4.9</td>\n",
       "      <td>84.6</td>\n",
       "      <td>4.9</td>\n",
       "      <td>Pass</td>\n",
       "      <td>Successful</td>\n",
       "      <td>Pedro Neto</td>\n",
       "      <td>[{'type': {'value': 56, 'displayName': 'Zone'}, 'value': 'Right'}, {'type': {'value': 213, 'displayName': 'Angle'}, 'value': '0'}, {'type': {'value': 140, 'displayName': 'PassEndX'}, 'value': '84.6'}, {'type': {'value': 141, 'displayName': 'PassEndY'}, 'value': '4.9'}, {'type': {'value': 212, 'displayName': 'Length'}, 'value': '19.2'}, {'type': {'value': 178, 'displayName': 'StandingSave'}}]</td>\n",
       "    </tr>\n",
       "    <tr>\n",
       "      <th>22</th>\n",
       "      <td>0</td>\n",
       "      <td>54.0</td>\n",
       "      <td>161</td>\n",
       "      <td>92.3</td>\n",
       "      <td>7.0</td>\n",
       "      <td>93.0</td>\n",
       "      <td>48.5</td>\n",
       "      <td>Pass</td>\n",
       "      <td>Unsuccessful</td>\n",
       "      <td>Daniel Podence</td>\n",
       "      <td>[{'type': {'value': 140, 'displayName': 'PassEndX'}, 'value': '93.0'}, {'type': {'value': 141, 'displayName': 'PassEndY'}, 'value': '48.5'}, {'type': {'value': 155, 'displayName': 'Chipped'}}, {'type': {'value': 20, 'displayName': 'RightFoot'}}, {'type': {'value': 212, 'displayName': 'Length'}, 'value': '28.2'}, {'type': {'value': 56, 'displayName': 'Zone'}, 'value': 'Center'}, {'type': {'value': 213, 'displayName': 'Angle'}, 'value': '1.5'}, {'type': {'value': 178, 'displayName': 'StandingSave'}}, {'type': {'value': 2, 'displayName': 'Cross'}}]</td>\n",
       "    </tr>\n",
       "    <tr>\n",
       "      <th>23</th>\n",
       "      <td>0</td>\n",
       "      <td>55.0</td>\n",
       "      <td>24</td>\n",
       "      <td>7.7</td>\n",
       "      <td>50.8</td>\n",
       "      <td>NaN</td>\n",
       "      <td>NaN</td>\n",
       "      <td>Aerial</td>\n",
       "      <td>Successful</td>\n",
       "      <td>Matthew Cash</td>\n",
       "      <td>[{'type': {'value': 285, 'displayName': 'Defensive'}}, {'type': {'value': 56, 'displayName': 'Zone'}, 'value': 'Back'}, {'type': {'value': 233, 'displayName': 'OppositeRelatedEvent'}, 'value': '17'}]</td>\n",
       "    </tr>\n",
       "    <tr>\n",
       "      <th>24</th>\n",
       "      <td>0</td>\n",
       "      <td>55.0</td>\n",
       "      <td>161</td>\n",
       "      <td>92.3</td>\n",
       "      <td>49.2</td>\n",
       "      <td>NaN</td>\n",
       "      <td>NaN</td>\n",
       "      <td>Aerial</td>\n",
       "      <td>Unsuccessful</td>\n",
       "      <td>Fábio Silva</td>\n",
       "      <td>[{'type': {'value': 286, 'displayName': 'Offensive'}}, {'type': {'value': 233, 'displayName': 'OppositeRelatedEvent'}, 'value': '12'}, {'type': {'value': 56, 'displayName': 'Zone'}, 'value': 'Center'}]</td>\n",
       "    </tr>\n",
       "    <tr>\n",
       "      <th>25</th>\n",
       "      <td>0</td>\n",
       "      <td>55.0</td>\n",
       "      <td>24</td>\n",
       "      <td>9.7</td>\n",
       "      <td>48.4</td>\n",
       "      <td>7.2</td>\n",
       "      <td>33.1</td>\n",
       "      <td>Clearance</td>\n",
       "      <td>Successful</td>\n",
       "      <td>Matthew Cash</td>\n",
       "      <td>[{'type': {'value': 140, 'displayName': 'PassEndX'}, 'value': '7.2'}, {'type': {'value': 213, 'displayName': 'Angle'}, 'value': '4.5'}, {'type': {'value': 15, 'displayName': 'Head'}}, {'type': {'value': 56, 'displayName': 'Zone'}, 'value': 'Back'}, {'type': {'value': 141, 'displayName': 'PassEndY'}, 'value': '33.1'}, {'type': {'value': 212, 'displayName': 'Length'}, 'value': '10.7'}]</td>\n",
       "    </tr>\n",
       "    <tr>\n",
       "      <th>26</th>\n",
       "      <td>0</td>\n",
       "      <td>58.0</td>\n",
       "      <td>24</td>\n",
       "      <td>6.6</td>\n",
       "      <td>34.3</td>\n",
       "      <td>0.0</td>\n",
       "      <td>33.9</td>\n",
       "      <td>Clearance</td>\n",
       "      <td>Successful</td>\n",
       "      <td>Bertrand Traoré</td>\n",
       "      <td>[{'type': {'value': 212, 'displayName': 'Length'}, 'value': '7.9'}, {'type': {'value': 178, 'displayName': 'StandingSave'}}, {'type': {'value': 56, 'displayName': 'Zone'}, 'value': 'Back'}, {'type': {'value': 213, 'displayName': 'Angle'}, 'value': '3.2'}, {'type': {'value': 141, 'displayName': 'PassEndY'}, 'value': '33.9'}, {'type': {'value': 140, 'displayName': 'PassEndX'}, 'value': '0.0'}]</td>\n",
       "    </tr>\n",
       "    <tr>\n",
       "      <th>27</th>\n",
       "      <td>0</td>\n",
       "      <td>58.0</td>\n",
       "      <td>24</td>\n",
       "      <td>2.0</td>\n",
       "      <td>40.5</td>\n",
       "      <td>NaN</td>\n",
       "      <td>NaN</td>\n",
       "      <td>CornerAwarded</td>\n",
       "      <td>Unsuccessful</td>\n",
       "      <td>Bertrand Traoré</td>\n",
       "      <td>[{'type': {'value': 56, 'displayName': 'Zone'}, 'value': 'Back'}, {'type': {'value': 233, 'displayName': 'OppositeRelatedEvent'}, 'value': '18'}, {'type': {'value': 73, 'displayName': 'MissLeft'}}]</td>\n",
       "    </tr>\n",
       "  </tbody>\n",
       "</table>\n",
       "</div>"
      ],
      "text/plain": [
       "    minute  second  teamId     x     y  endX  endY type_displayName  \\\n",
       "13       0    41.0     161  49.2   0.0  54.3   6.1             Pass   \n",
       "14       0    42.0     161  54.3   6.1  44.9   5.3             Pass   \n",
       "15       0    43.0      24  58.5  95.7   NaN   NaN     Interception   \n",
       "16       0    44.0      24  51.5  94.0   NaN   NaN        Challenge   \n",
       "17       0    44.0     161  48.5   6.0   NaN   NaN           TakeOn   \n",
       "18       0    45.0     161  46.0   9.5   NaN   NaN        BallTouch   \n",
       "19       0    47.0     161  58.6   6.8   NaN   NaN           TakeOn   \n",
       "20       0    47.0      24  41.4  93.2   NaN   NaN        Challenge   \n",
       "21       0    49.0     161  66.3   4.9  84.6   4.9             Pass   \n",
       "22       0    54.0     161  92.3   7.0  93.0  48.5             Pass   \n",
       "23       0    55.0      24   7.7  50.8   NaN   NaN           Aerial   \n",
       "24       0    55.0     161  92.3  49.2   NaN   NaN           Aerial   \n",
       "25       0    55.0      24   9.7  48.4   7.2  33.1        Clearance   \n",
       "26       0    58.0      24   6.6  34.3   0.0  33.9        Clearance   \n",
       "27       0    58.0      24   2.0  40.5   NaN   NaN    CornerAwarded   \n",
       "\n",
       "   outcomeType_displayName             name  \\\n",
       "13              Successful    Nélson Semedo   \n",
       "14            Unsuccessful       Pedro Neto   \n",
       "15              Successful    Jack Grealish   \n",
       "16            Unsuccessful      John McGinn   \n",
       "17              Successful    Nélson Semedo   \n",
       "18              Successful    Nélson Semedo   \n",
       "19              Successful       Pedro Neto   \n",
       "20            Unsuccessful     Douglas Luiz   \n",
       "21              Successful       Pedro Neto   \n",
       "22            Unsuccessful   Daniel Podence   \n",
       "23              Successful     Matthew Cash   \n",
       "24            Unsuccessful      Fábio Silva   \n",
       "25              Successful     Matthew Cash   \n",
       "26              Successful  Bertrand Traoré   \n",
       "27            Unsuccessful  Bertrand Traoré   \n",
       "\n",
       "                                                                                                                                                                                                                                                                                                                                                                                                                                                                                                                                                                 qualifiers  \n",
       "13                                                                                                                                                                   [{'type': {'value': 141, 'displayName': 'PassEndY'}, 'value': '6.1'}, {'type': {'value': 107, 'displayName': 'ThrowIn'}}, {'type': {'value': 213, 'displayName': 'Angle'}, 'value': '0.8'}, {'type': {'value': 212, 'displayName': 'Length'}, 'value': '7.6'}, {'type': {'value': 140, 'displayName': 'PassEndX'}, 'value': '54.3'}, {'type': {'value': 56, 'displayName': 'Zone'}, 'value': 'Right'}]  \n",
       "14                                                                                                      [{'type': {'value': 21, 'displayName': 'OtherBodyPart'}}, {'type': {'value': 213, 'displayName': 'Angle'}, 'value': '3.2'}, {'type': {'value': 212, 'displayName': 'Length'}, 'value': '9.9'}, {'type': {'value': 141, 'displayName': 'PassEndY'}, 'value': '5.3'}, {'type': {'value': 140, 'displayName': 'PassEndX'}, 'value': '44.9'}, {'type': {'value': 178, 'displayName': 'StandingSave'}}, {'type': {'value': 56, 'displayName': 'Zone'}, 'value': 'Back'}]  \n",
       "15                                                                                                                                                                                                                                                                                                                                                                                                                                               [{'type': {'value': 178, 'displayName': 'StandingSave'}}, {'type': {'value': 56, 'displayName': 'Zone'}, 'value': 'Left'}]  \n",
       "16                                                                                                                                                                                                                                                                                                                                                                  [{'type': {'value': 56, 'displayName': 'Zone'}, 'value': 'Left'}, {'type': {'value': 233, 'displayName': 'OppositeRelatedEvent'}, 'value': '13'}, {'type': {'value': 285, 'displayName': 'Defensive'}}]  \n",
       "17                                                                                                                                                                                                                                                                                                         [{'type': {'value': 233, 'displayName': 'OppositeRelatedEvent'}, 'value': '10'}, {'type': {'value': 286, 'displayName': 'Offensive'}}, {'type': {'value': 178, 'displayName': 'StandingSave'}}, {'type': {'value': 56, 'displayName': 'Zone'}, 'value': 'Back'}]  \n",
       "18                                                                                                                                                                                                                                                                                                                                                                                                                                               [{'type': {'value': 56, 'displayName': 'Zone'}, 'value': 'Back'}, {'type': {'value': 178, 'displayName': 'StandingSave'}}]  \n",
       "19                                                                                                                                                                                                                                                                                                        [{'type': {'value': 56, 'displayName': 'Zone'}, 'value': 'Right'}, {'type': {'value': 233, 'displayName': 'OppositeRelatedEvent'}, 'value': '68'}, {'type': {'value': 286, 'displayName': 'Offensive'}}, {'type': {'value': 178, 'displayName': 'StandingSave'}}]  \n",
       "20                                                                                                                                                                                                                                                                                                                                                                  [{'type': {'value': 56, 'displayName': 'Zone'}, 'value': 'Back'}, {'type': {'value': 285, 'displayName': 'Defensive'}}, {'type': {'value': 233, 'displayName': 'OppositeRelatedEvent'}, 'value': '14'}]  \n",
       "21                                                                                                                                                               [{'type': {'value': 56, 'displayName': 'Zone'}, 'value': 'Right'}, {'type': {'value': 213, 'displayName': 'Angle'}, 'value': '0'}, {'type': {'value': 140, 'displayName': 'PassEndX'}, 'value': '84.6'}, {'type': {'value': 141, 'displayName': 'PassEndY'}, 'value': '4.9'}, {'type': {'value': 212, 'displayName': 'Length'}, 'value': '19.2'}, {'type': {'value': 178, 'displayName': 'StandingSave'}}]  \n",
       "22  [{'type': {'value': 140, 'displayName': 'PassEndX'}, 'value': '93.0'}, {'type': {'value': 141, 'displayName': 'PassEndY'}, 'value': '48.5'}, {'type': {'value': 155, 'displayName': 'Chipped'}}, {'type': {'value': 20, 'displayName': 'RightFoot'}}, {'type': {'value': 212, 'displayName': 'Length'}, 'value': '28.2'}, {'type': {'value': 56, 'displayName': 'Zone'}, 'value': 'Center'}, {'type': {'value': 213, 'displayName': 'Angle'}, 'value': '1.5'}, {'type': {'value': 178, 'displayName': 'StandingSave'}}, {'type': {'value': 2, 'displayName': 'Cross'}}]  \n",
       "23                                                                                                                                                                                                                                                                                                                                                                  [{'type': {'value': 285, 'displayName': 'Defensive'}}, {'type': {'value': 56, 'displayName': 'Zone'}, 'value': 'Back'}, {'type': {'value': 233, 'displayName': 'OppositeRelatedEvent'}, 'value': '17'}]  \n",
       "24                                                                                                                                                                                                                                                                                                                                                                [{'type': {'value': 286, 'displayName': 'Offensive'}}, {'type': {'value': 233, 'displayName': 'OppositeRelatedEvent'}, 'value': '12'}, {'type': {'value': 56, 'displayName': 'Zone'}, 'value': 'Center'}]  \n",
       "25                                                                                                                                                                       [{'type': {'value': 140, 'displayName': 'PassEndX'}, 'value': '7.2'}, {'type': {'value': 213, 'displayName': 'Angle'}, 'value': '4.5'}, {'type': {'value': 15, 'displayName': 'Head'}}, {'type': {'value': 56, 'displayName': 'Zone'}, 'value': 'Back'}, {'type': {'value': 141, 'displayName': 'PassEndY'}, 'value': '33.1'}, {'type': {'value': 212, 'displayName': 'Length'}, 'value': '10.7'}]  \n",
       "26                                                                                                                                                               [{'type': {'value': 212, 'displayName': 'Length'}, 'value': '7.9'}, {'type': {'value': 178, 'displayName': 'StandingSave'}}, {'type': {'value': 56, 'displayName': 'Zone'}, 'value': 'Back'}, {'type': {'value': 213, 'displayName': 'Angle'}, 'value': '3.2'}, {'type': {'value': 141, 'displayName': 'PassEndY'}, 'value': '33.9'}, {'type': {'value': 140, 'displayName': 'PassEndX'}, 'value': '0.0'}]  \n",
       "27                                                                                                                                                                                                                                                                                                                                                                    [{'type': {'value': 56, 'displayName': 'Zone'}, 'value': 'Back'}, {'type': {'value': 233, 'displayName': 'OppositeRelatedEvent'}, 'value': '18'}, {'type': {'value': 73, 'displayName': 'MissLeft'}}]  "
      ]
     },
     "execution_count": 43,
     "metadata": {},
     "output_type": "execute_result"
    }
   ],
   "source": [
    "df_all.iloc[t_seq[i][0]:t_seq[i][1]+1][sum_cols]"
   ]
  },
  {
   "cell_type": "code",
   "execution_count": null,
   "metadata": {},
   "outputs": [],
   "source": []
  },
  {
   "cell_type": "code",
   "execution_count": 37,
   "metadata": {},
   "outputs": [
    {
     "data": {
      "text/plain": [
       "[(10, 13),\n",
       " (13, 27),\n",
       " (103, 107),\n",
       " (107, 111),\n",
       " (111, 128),\n",
       " (149, 157),\n",
       " (190, 203),\n",
       " (324, 335),\n",
       " (335, 347),\n",
       " (347, 353),\n",
       " (415, 424),\n",
       " (424, 433),\n",
       " (441, 442),\n",
       " (464, 468),\n",
       " (470, 473),\n",
       " (491, 504),\n",
       " (728, 736),\n",
       " (776, 812),\n",
       " (812, 815),\n",
       " (815, 823),\n",
       " (823, 826),\n",
       " (826, 832),\n",
       " (861, 865),\n",
       " (865, 877),\n",
       " (889, 913),\n",
       " (918, 926),\n",
       " (948, 953),\n",
       " (953, 965),\n",
       " (975, 978),\n",
       " (986, 995),\n",
       " (1022, 1026),\n",
       " (1035, 1046),\n",
       " (1046, 1069),\n",
       " (1157, 1169),\n",
       " (1169, 1170),\n",
       " (1188, 1189),\n",
       " (1198, 1202),\n",
       " (1240, 1253),\n",
       " (1274, 1277),\n",
       " (1277, 1281),\n",
       " (1307, 1332),\n",
       " (1407, 1422)]"
      ]
     },
     "execution_count": 37,
     "metadata": {},
     "output_type": "execute_result"
    }
   ],
   "source": [
    "t_seq"
   ]
  },
  {
   "cell_type": "code",
   "execution_count": null,
   "metadata": {},
   "outputs": [],
   "source": []
  }
 ],
 "metadata": {
  "kernelspec": {
   "display_name": "Python 3 (Spyder)",
   "language": "python3",
   "name": "python3"
  },
  "language_info": {
   "codemirror_mode": {
    "name": "ipython",
    "version": 3
   },
   "file_extension": ".py",
   "mimetype": "text/x-python",
   "name": "python",
   "nbconvert_exporter": "python",
   "pygments_lexer": "ipython3",
   "version": "3.7.6"
  }
 },
 "nbformat": 4,
 "nbformat_minor": 5
}
