{
 "cells": [
  {
   "cell_type": "code",
   "execution_count": 1,
   "id": "42784d9b",
   "metadata": {},
   "outputs": [],
   "source": [
    "import pandas as pd\n",
    "from helper import calculate_len_and_time"
   ]
  },
  {
   "cell_type": "code",
   "execution_count": 2,
   "id": "d06e9f4b",
   "metadata": {},
   "outputs": [],
   "source": [
    "# read the file\n",
    "import json\n",
    "with open('data/sequences.json') as f:\n",
    "    t_seq = [tuple(x) for x in json.load(f)]"
   ]
  },
  {
   "cell_type": "code",
   "execution_count": 3,
   "id": "57f6e994",
   "metadata": {},
   "outputs": [],
   "source": [
    "length = []\n",
    "for i in t_seq:\n",
    "    length.append(i[1]-i[0])"
   ]
  },
  {
   "cell_type": "code",
   "execution_count": 4,
   "id": "744c17a3",
   "metadata": {},
   "outputs": [],
   "source": [
    "from matplotlib import pyplot as plt\n"
   ]
  },
  {
   "cell_type": "code",
   "execution_count": 5,
   "id": "25be73ea",
   "metadata": {},
   "outputs": [
    {
     "data": {
      "text/plain": [
       "(array([3290., 3650., 3642., 2956., 1206.,  124.,   18.,    5.]),\n",
       " array([  0,  10,  25,  50, 100, 200, 300, 400, 600]),\n",
       " <BarContainer object of 8 artists>)"
      ]
     },
     "execution_count": 5,
     "metadata": {},
     "output_type": "execute_result"
    },
    {
     "data": {
      "image/png": "[encoded data removed]",
      "text/plain": [
       "<Figure size 720x504 with 1 Axes>"
      ]
     },
     "metadata": {
      "needs_background": "light"
     },
     "output_type": "display_data"
    }
   ],
   "source": [
    "fig,ax = plt.subplots(figsize=(10,7))\n",
    "ax.hist(length,bins=[0,10,25,50,100,200,300,400,600])"
   ]
  },
  {
   "cell_type": "code",
   "execution_count": 6,
   "id": "a801e8e5",
   "metadata": {},
   "outputs": [],
   "source": [
    "df_all = pd.read_csv(\"data/plEventsData.csv\",low_memory=False)\n",
    "\n",
    "pd.set_option('display.max_columns', None)"
   ]
  },
  {
   "cell_type": "code",
   "execution_count": 18,
   "id": "d33257f1",
   "metadata": {},
   "outputs": [],
   "source": [
    "st_time = [x[0]*60+x[1] for x in df_all.iloc[[x[0] for x in t_seq]][['minute','second']].values]"
   ]
  },
  {
   "cell_type": "code",
   "execution_count": 19,
   "id": "3cf77cb7",
   "metadata": {},
   "outputs": [],
   "source": [
    "end_time = [x[0]*60+x[1] for x in df_all.iloc[[x[1] for x in t_seq]][['minute','second']].values]"
   ]
  },
  {
   "cell_type": "code",
   "execution_count": 24,
   "id": "2cb895ec",
   "metadata": {},
   "outputs": [],
   "source": [
    "duration = []\n",
    "for e,s in zip(end_time,st_time):\n",
    "    duration.append(e-s)"
   ]
  },
  {
   "cell_type": "code",
   "execution_count": 26,
   "id": "6478b05d",
   "metadata": {},
   "outputs": [
    {
     "data": {
      "text/plain": [
       "(array([3.2900e+02, 4.9000e+01, 2.0000e+00, 0.0000e+00, 0.0000e+00,\n",
       "        0.0000e+00, 1.0000e+00, 1.2209e+04, 2.2810e+03, 2.0000e+01]),\n",
       " array([-5988. , -5206.3, -4424.6, -3642.9, -2861.2, -2079.5, -1297.8,\n",
       "         -516.1,   265.6,  1047.3,  1829. ]),\n",
       " <BarContainer object of 10 artists>)"
      ]
     },
     "execution_count": 26,
     "metadata": {},
     "output_type": "execute_result"
    },
    {
     "data": {
      "image/png": "[encoded data removed]",
      "text/plain": [
       "<Figure size 720x504 with 1 Axes>"
      ]
     },
     "metadata": {
      "needs_background": "light"
     },
     "output_type": "display_data"
    }
   ],
   "source": [
    "fig,ax = plt.subplots(figsize=(10,7))\n",
    "ax.hist(duration)"
   ]
  },
  {
   "cell_type": "code",
   "execution_count": null,
   "id": "f3bdb078",
   "metadata": {},
   "outputs": [],
   "source": []
  }
 ],
 "metadata": {
  "kernelspec": {
   "display_name": "Python 3",
   "language": "python",
   "name": "python3"
  },
  "language_info": {
   "codemirror_mode": {
    "name": "ipython",
    "version": 3
   },
   "file_extension": ".py",
   "mimetype": "text/x-python",
   "name": "python",
   "nbconvert_exporter": "python",
   "pygments_lexer": "ipython3",
   "version": "3.7.1"
  }
 },
 "nbformat": 4,
 "nbformat_minor": 5
}
